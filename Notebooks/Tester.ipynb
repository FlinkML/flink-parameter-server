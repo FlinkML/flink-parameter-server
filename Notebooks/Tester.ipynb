{
 "cells": [
  {
   "cell_type": "code",
   "execution_count": 1,
   "metadata": {
    "collapsed": true
   },
   "outputs": [],
   "source": [
    "import pandas as pd\n",
    "import numpy as np\n",
    "import heapq"
   ]
  },
  {
   "cell_type": "code",
   "execution_count": 3,
   "metadata": {
    "collapsed": false
   },
   "outputs": [],
   "source": [
    "userVec = pd.read_csv('../UserVector.map', delimiter = ';', header = None)\n",
    "userVectors = {}\n",
    "\n",
    "for id in userVec[0].unique():\n",
    "    userVectors[id] = []\n",
    "    \n",
    "for index, row in userVec.iterrows():\n",
    "    userVectors[row[0]].append(row[1])"
   ]
  },
  {
   "cell_type": "code",
   "execution_count": 4,
   "metadata": {
    "collapsed": false
   },
   "outputs": [],
   "source": [
    "itemVec = pd.read_csv('../ItemVector.map', delimiter = ';', header = None)\n",
    "itemVectors = {}\n",
    "\n",
    "for id in itemVec[0].unique():\n",
    "    itemVectors[id] = []\n",
    "    \n",
    "for index, row in itemVec.iterrows():\n",
    "    itemVectors[row[0]].append(row[1])"
   ]
  },
  {
   "cell_type": "code",
   "execution_count": 5,
   "metadata": {
    "collapsed": false
   },
   "outputs": [],
   "source": [
    "userItemTests = pd.read_csv('../Resource/data_session_test', delimiter = ' ', header = None)\n",
    "userItemTest = {}\n",
    "\n",
    "for id in userItemTests[0].unique():\n",
    "    userItemTest[id] = []\n",
    "    \n",
    "for index, row in userItemTests.iterrows():\n",
    "    userItemTest[row[0]].append(row[1])"
   ]
  },
  {
   "cell_type": "code",
   "execution_count": 6,
   "metadata": {
    "collapsed": false
   },
   "outputs": [],
   "source": [
    "userItemTrains = pd.read_csv('../Resource/data_session_train', delimiter = ' ', header = None)\n",
    "userItemTrain = {}\n",
    "\n",
    "for id in userItemTrains[1].unique():\n",
    "    userItemTrain[id] = []\n",
    "    \n",
    "for index, row in userItemTrains.iterrows():\n",
    "    userItemTrain[row[1]].append(row[2])"
   ]
  },
  {
   "cell_type": "code",
   "execution_count": 7,
   "metadata": {
    "collapsed": false
   },
   "outputs": [],
   "source": [
    "itemFrequency = pd.DataFrame(userItemTrains.groupby([2]).size())"
   ]
  },
  {
   "cell_type": "code",
   "execution_count": 8,
   "metadata": {
    "collapsed": false,
    "scrolled": true
   },
   "outputs": [],
   "source": [
    "filteredItems = itemFrequency[itemFrequency[0] > 5]\n",
    "goodItemIds  = list(filteredItems.index)"
   ]
  },
  {
   "cell_type": "code",
   "execution_count": 9,
   "metadata": {
    "collapsed": false
   },
   "outputs": [],
   "source": [
    "\n",
    "condition = ~ userItemTrains[2].isin(goodItemIds)\n",
    "filteredUserItemTrains = userItemTrains[condition]"
   ]
  },
  {
   "cell_type": "code",
   "execution_count": 10,
   "metadata": {
    "collapsed": false
   },
   "outputs": [],
   "source": [
    "userItemTrain = {}\n",
    "\n",
    "for id in filteredUserItemTrains[1].unique():\n",
    "    userItemTrain[id] = []\n",
    "    \n",
    "for index, row in filteredUserItemTrains.iterrows():\n",
    "    userItemTrain[row[1]].append(row[2])"
   ]
  },
  {
   "cell_type": "code",
   "execution_count": null,
   "metadata": {
    "collapsed": false
   },
   "outputs": [],
   "source": [
    "userRecommendations = {}\n",
    "activeUsers = set(set(filteredUserItemTrains[1].unique()).intersection(set(userItemTest.keys()))).intersection(set(userVectors.keys()))\n",
    "activeItems = (set(userItemTests[1].unique())).intersection(set(filteredUserItemTrains[2].unique()))"
   ]
  },
  {
   "cell_type": "code",
   "execution_count": null,
   "metadata": {
    "collapsed": false
   },
   "outputs": [],
   "source": [
    "for userID in activeUsers:\n",
    "    u = np.array(userVectors[userID])\n",
    "    userRatings = {}\n",
    "    for itemID in activeItems - set(userItemTrain[userID]):\n",
    "        i = np.array(itemVectors[itemID])\n",
    "        prediction = np.dot(u,i)\n",
    "        userRatings[itemID] = prediction\n",
    "        \n",
    "    userRecommendations[userID] = heapq.nlargest(5, userRatings, key=userRatings.get) \n",
    "    \n",
    "        "
   ]
  },
  {
   "cell_type": "code",
   "execution_count": null,
   "metadata": {
    "collapsed": false
   },
   "outputs": [],
   "source": [
    "len(activeUsers)"
   ]
  },
  {
   "cell_type": "code",
   "execution_count": null,
   "metadata": {
    "collapsed": false
   },
   "outputs": [],
   "source": [
    "hit = 0.0\n",
    "count = 0.0\n",
    "\n",
    "for userID in activeUsers:\n",
    "    hit += len(set(userItemTest[userID]).intersection(set(userRecommendations[userID])))\n",
    "    count += len(userItemTest[userID])\n",
    "    \n",
    "recall = hit / count\n",
    "precision = hit / (len(userRecommendations) * 5.0)"
   ]
  },
  {
   "cell_type": "code",
   "execution_count": null,
   "metadata": {
    "collapsed": false
   },
   "outputs": [],
   "source": [
    "hit"
   ]
  },
  {
   "cell_type": "code",
   "execution_count": null,
   "metadata": {
    "collapsed": true
   },
   "outputs": [],
   "source": [
    "for userID in activeUsers:\n",
    "    u = np.array(userVectors[userID])\n",
    "    userRatings = {}\n",
    "    for itemID in activeItems:\n",
    "        i = np.array(itemVectors[itemID])\n",
    "        prediction = np.dot(u,i)\n",
    "        userRatings[itemID] = prediction\n",
    "        \n",
    "    userRecommendations[userID] = heapq.nlargest(5, userRatings, key=userRatings.get) "
   ]
  },
  {
   "cell_type": "code",
   "execution_count": null,
   "metadata": {
    "collapsed": false
   },
   "outputs": [],
   "source": [
    "precision = 0.0\n",
    "\n",
    "for userID in activeUsers:\n",
    "    precision += len(set(userItemTrain[userID]).intersection(set(userRecommendations[userID])))\n",
    "    \n",
    "print precision"
   ]
  },
  {
   "cell_type": "code",
   "execution_count": 17,
   "metadata": {
    "collapsed": false
   },
   "outputs": [
    {
     "data": {
      "text/plain": [
       "12729.0"
      ]
     },
     "execution_count": 17,
     "metadata": {},
     "output_type": "execute_result"
    }
   ],
   "source": [
    "count"
   ]
  },
  {
   "cell_type": "code",
   "execution_count": 18,
   "metadata": {
    "collapsed": false
   },
   "outputs": [
    {
     "data": {
      "text/plain": [
       "3556"
      ]
     },
     "execution_count": 18,
     "metadata": {},
     "output_type": "execute_result"
    }
   ],
   "source": [
    "len(activeUsers)"
   ]
  },
  {
   "cell_type": "code",
   "execution_count": 19,
   "metadata": {
    "collapsed": false
   },
   "outputs": [
    {
     "data": {
      "text/plain": [
       "12547"
      ]
     },
     "execution_count": 19,
     "metadata": {},
     "output_type": "execute_result"
    }
   ],
   "source": [
    "len(userItemTrains[1].unique())"
   ]
  },
  {
   "cell_type": "code",
   "execution_count": 20,
   "metadata": {
    "collapsed": false
   },
   "outputs": [
    {
     "ename": "NameError",
     "evalue": "name 'userItemVec' is not defined",
     "output_type": "error",
     "traceback": [
      "\u001b[0;31m---------------------------------------------------------------------------\u001b[0m",
      "\u001b[0;31mNameError\u001b[0m                                 Traceback (most recent call last)",
      "\u001b[0;32m<ipython-input-20-5de47b59a760>\u001b[0m in \u001b[0;36m<module>\u001b[0;34m()\u001b[0m\n\u001b[0;32m----> 1\u001b[0;31m \u001b[0;32mprint\u001b[0m\u001b[0;34m(\u001b[0m\u001b[0mlen\u001b[0m\u001b[0;34m(\u001b[0m\u001b[0mset\u001b[0m\u001b[0;34m(\u001b[0m\u001b[0muserItemTrains\u001b[0m\u001b[0;34m[\u001b[0m\u001b[0;36m1\u001b[0m\u001b[0;34m]\u001b[0m\u001b[0;34m.\u001b[0m\u001b[0munique\u001b[0m\u001b[0;34m(\u001b[0m\u001b[0;34m)\u001b[0m\u001b[0;34m)\u001b[0m\u001b[0;34m.\u001b[0m\u001b[0mintersection\u001b[0m\u001b[0;34m(\u001b[0m\u001b[0mset\u001b[0m\u001b[0;34m(\u001b[0m\u001b[0muserItemVec\u001b[0m\u001b[0;34m[\u001b[0m\u001b[0;36m0\u001b[0m\u001b[0;34m]\u001b[0m\u001b[0;34m.\u001b[0m\u001b[0munique\u001b[0m\u001b[0;34m(\u001b[0m\u001b[0;34m)\u001b[0m\u001b[0;34m)\u001b[0m\u001b[0;34m)\u001b[0m\u001b[0;34m)\u001b[0m\u001b[0;34m)\u001b[0m\u001b[0;34m\u001b[0m\u001b[0m\n\u001b[0m",
      "\u001b[0;31mNameError\u001b[0m: name 'userItemVec' is not defined"
     ]
    }
   ],
   "source": [
    "print(len(set(userItemTrains[1].unique()).intersection(set(userItemVec[0].unique()))))"
   ]
  },
  {
   "cell_type": "code",
   "execution_count": null,
   "metadata": {
    "collapsed": false
   },
   "outputs": [],
   "source": [
    "len(userVectors.keys())"
   ]
  },
  {
   "cell_type": "code",
   "execution_count": null,
   "metadata": {
    "collapsed": true
   },
   "outputs": [],
   "source": []
  }
 ],
 "metadata": {
  "anaconda-cloud": {},
  "kernelspec": {
   "display_name": "Python [conda root]",
   "language": "python",
   "name": "conda-root-py"
  },
  "language_info": {
   "codemirror_mode": {
    "name": "ipython",
    "version": 2
   },
   "file_extension": ".py",
   "mimetype": "text/x-python",
   "name": "python",
   "nbconvert_exporter": "python",
   "pygments_lexer": "ipython2",
   "version": "2.7.12"
  }
 },
 "nbformat": 4,
 "nbformat_minor": 1
}
